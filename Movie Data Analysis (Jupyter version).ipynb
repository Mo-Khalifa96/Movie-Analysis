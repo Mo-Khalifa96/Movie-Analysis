{
 "cells": [
  {
   "cell_type": "markdown",
   "id": "a9079965",
   "metadata": {},
   "source": [
    "## Movie Data Analysis\n",
    "\n",
    "<br>\n",
    "\n",
    "#### This file is a culmination of multiple projects and assignments completed whilst  undertaking my course 'Data Analysis with Python', offered by the University of Pennsylvania. It is centered around analyzing movie data taken from IMDB.\n",
    "<br> \n",
    "\n",
    "**The project features a multiplicity of data analysis methods and techniques, utilizing a variety of Python libraries, which were applied  in a series of different assignments required by the course. These include techniques for inspecting, querying, and analyzing Excel files (parts 1 & 2), grouping and statistically summarizing data (part 3), and visualization data (part 4).** <br>\n",
    "<br>\n",
    "\n",
    "**The data being analyzed here are taken from imdb.com, comprising a list of movies and their relevant details (e.g., year of release, director name, etc.), as collected and arranged by imdb.** <br>\n",
    "<br>\n",
    "**All the data are contained within the file “imdb.xlsx”, which consists of 3 sheets (with the following coloumns):**\n",
    " * **imdb:** *'movie_title', 'director_id', 'country_id', 'content_rating', 'title_year', 'imdb_score', 'gross', 'duration'*\n",
    " * **countries:** *'id', 'country'*\n",
    " * **directors:** *'id', 'director_name'*\n",
    "<br>\n",
    "<br>"
   ]
  },
  {
   "cell_type": "markdown",
   "id": "67b98fdc",
   "metadata": {},
   "source": [
    "  "
   ]
  },
  {
   "cell_type": "code",
   "execution_count": 1,
   "id": "75574f6a",
   "metadata": {},
   "outputs": [],
   "source": [
    "#Importing the Python modules to be used \n",
    "import pandas as pd\n",
    "import matplotlib.pyplot as plt\n",
    "import numpy as np\n",
    "\n",
    "import warnings\n",
    "warnings.simplefilter(\"ignore\")"
   ]
  },
  {
   "cell_type": "markdown",
   "id": "353dbfd0",
   "metadata": {},
   "source": [
    "### Part One: Loading and Inspecting Data"
   ]
  },
  {
   "cell_type": "markdown",
   "id": "3f72cc17",
   "metadata": {},
   "source": [
    "**1. Loading and Reading Excel file**"
   ]
  },
  {
   "cell_type": "code",
   "execution_count": 2,
   "id": "2e3f409f",
   "metadata": {},
   "outputs": [],
   "source": [
    "#Accessing the 'imdb.xlsx' file\n",
    "xl = pd.ExcelFile('imdb.xlsx')\n",
    "\n",
    "#Loading each sheet onto a separate dataframe \n",
    "df = xl.parse('imdb')\n",
    "df_countries = xl.parse('countries')\n",
    "df_directors = xl.parse('directors')\n"
   ]
  },
  {
   "cell_type": "markdown",
   "id": "3bc26bac",
   "metadata": {},
   "source": [
    " "
   ]
  },
  {
   "cell_type": "markdown",
   "id": "8cea5c6c",
   "metadata": {},
   "source": [
    "**2. General Inspections of the File** "
   ]
  },
  {
   "cell_type": "code",
   "execution_count": 3,
   "id": "45244573",
   "metadata": {},
   "outputs": [
    {
     "name": "stdout",
     "output_type": "stream",
     "text": [
      "Number of coloumns: 8\n",
      "Number of rows: 178\n"
     ]
    }
   ],
   "source": [
    "#Inspecting the shape (rows x coloumns) of first sheet\n",
    "\n",
    "shape = df.shape\n",
    "print('Number of coloumns:', shape[1])\n",
    "print('Number of rows:', shape[0])\n"
   ]
  },
  {
   "cell_type": "markdown",
   "id": "f4096dc4",
   "metadata": {},
   "source": [
    " "
   ]
  },
  {
   "cell_type": "code",
   "execution_count": 4,
   "id": "bc38478b",
   "metadata": {},
   "outputs": [
    {
     "name": "stdout",
     "output_type": "stream",
     "text": [
      "Coloumn headers in the sheet 'imdb':\n",
      "movie_title\n",
      "director_id\n",
      "country_id\n",
      "content_rating\n",
      "title_year\n",
      "imdb_score\n",
      "gross\n",
      "duration\n"
     ]
    }
   ],
   "source": [
    "#Inspecting the coloumn headers of the first sheet\n",
    "\n",
    "print('Coloumn headers in the sheet \\'imdb\\':')\n",
    "for column in list(df.columns):\n",
    "    print(column)\n"
   ]
  },
  {
   "cell_type": "markdown",
   "id": "b2d7d779",
   "metadata": {},
   "source": [
    " "
   ]
  },
  {
   "cell_type": "code",
   "execution_count": 5,
   "id": "a755c6e3",
   "metadata": {},
   "outputs": [
    {
     "name": "stdout",
     "output_type": "stream",
     "text": [
      "The first 10 enteries off the 'imdb' sheet:\n"
     ]
    },
    {
     "data": {
      "text/html": [
       "<div>\n",
       "<style scoped>\n",
       "    .dataframe tbody tr th:only-of-type {\n",
       "        vertical-align: middle;\n",
       "    }\n",
       "\n",
       "    .dataframe tbody tr th {\n",
       "        vertical-align: top;\n",
       "    }\n",
       "\n",
       "    .dataframe thead th {\n",
       "        text-align: right;\n",
       "    }\n",
       "</style>\n",
       "<table border=\"1\" class=\"dataframe\">\n",
       "  <thead>\n",
       "    <tr style=\"text-align: right;\">\n",
       "      <th></th>\n",
       "      <th>movie_title</th>\n",
       "      <th>director_id</th>\n",
       "      <th>country_id</th>\n",
       "      <th>content_rating</th>\n",
       "      <th>title_year</th>\n",
       "      <th>imdb_score</th>\n",
       "      <th>gross</th>\n",
       "      <th>duration</th>\n",
       "    </tr>\n",
       "  </thead>\n",
       "  <tbody>\n",
       "    <tr>\n",
       "      <th>0</th>\n",
       "      <td>The Shawshank RedemptionÊ</td>\n",
       "      <td>34</td>\n",
       "      <td>1</td>\n",
       "      <td>R</td>\n",
       "      <td>1994</td>\n",
       "      <td>9.3</td>\n",
       "      <td>28341469</td>\n",
       "      <td>142</td>\n",
       "    </tr>\n",
       "    <tr>\n",
       "      <th>1</th>\n",
       "      <td>The GodfatherÊ</td>\n",
       "      <td>33</td>\n",
       "      <td>1</td>\n",
       "      <td>R</td>\n",
       "      <td>1972</td>\n",
       "      <td>9.2</td>\n",
       "      <td>134821952</td>\n",
       "      <td>175</td>\n",
       "    </tr>\n",
       "    <tr>\n",
       "      <th>2</th>\n",
       "      <td>The Dark KnightÊ</td>\n",
       "      <td>16</td>\n",
       "      <td>1</td>\n",
       "      <td>PG-13</td>\n",
       "      <td>2008</td>\n",
       "      <td>9.0</td>\n",
       "      <td>533316061</td>\n",
       "      <td>152</td>\n",
       "    </tr>\n",
       "    <tr>\n",
       "      <th>3</th>\n",
       "      <td>The Godfather: Part IIÊ</td>\n",
       "      <td>33</td>\n",
       "      <td>1</td>\n",
       "      <td>R</td>\n",
       "      <td>1974</td>\n",
       "      <td>9.0</td>\n",
       "      <td>57300000</td>\n",
       "      <td>220</td>\n",
       "    </tr>\n",
       "    <tr>\n",
       "      <th>4</th>\n",
       "      <td>The Lord of the Rings: The Return of the KingÊ</td>\n",
       "      <td>83</td>\n",
       "      <td>1</td>\n",
       "      <td>PG-13</td>\n",
       "      <td>2003</td>\n",
       "      <td>8.9</td>\n",
       "      <td>377019252</td>\n",
       "      <td>192</td>\n",
       "    </tr>\n",
       "    <tr>\n",
       "      <th>5</th>\n",
       "      <td>Pulp FictionÊ</td>\n",
       "      <td>85</td>\n",
       "      <td>1</td>\n",
       "      <td>R</td>\n",
       "      <td>1994</td>\n",
       "      <td>8.9</td>\n",
       "      <td>107930000</td>\n",
       "      <td>178</td>\n",
       "    </tr>\n",
       "    <tr>\n",
       "      <th>6</th>\n",
       "      <td>The Good, the Bad and the UglyÊ</td>\n",
       "      <td>98</td>\n",
       "      <td>2</td>\n",
       "      <td>Approved</td>\n",
       "      <td>1966</td>\n",
       "      <td>8.9</td>\n",
       "      <td>6100000</td>\n",
       "      <td>142</td>\n",
       "    </tr>\n",
       "    <tr>\n",
       "      <th>7</th>\n",
       "      <td>Schindler's ListÊ</td>\n",
       "      <td>103</td>\n",
       "      <td>1</td>\n",
       "      <td>R</td>\n",
       "      <td>1993</td>\n",
       "      <td>8.9</td>\n",
       "      <td>96067179</td>\n",
       "      <td>185</td>\n",
       "    </tr>\n",
       "    <tr>\n",
       "      <th>8</th>\n",
       "      <td>InceptionÊ</td>\n",
       "      <td>16</td>\n",
       "      <td>1</td>\n",
       "      <td>PG-13</td>\n",
       "      <td>2010</td>\n",
       "      <td>8.8</td>\n",
       "      <td>292568851</td>\n",
       "      <td>148</td>\n",
       "    </tr>\n",
       "    <tr>\n",
       "      <th>9</th>\n",
       "      <td>Fight ClubÊ</td>\n",
       "      <td>22</td>\n",
       "      <td>1</td>\n",
       "      <td>R</td>\n",
       "      <td>1999</td>\n",
       "      <td>8.8</td>\n",
       "      <td>37023395</td>\n",
       "      <td>151</td>\n",
       "    </tr>\n",
       "  </tbody>\n",
       "</table>\n",
       "</div>"
      ],
      "text/plain": [
       "                                      movie_title  director_id  country_id  \\\n",
       "0                       The Shawshank RedemptionÊ           34           1   \n",
       "1                                  The GodfatherÊ           33           1   \n",
       "2                                The Dark KnightÊ           16           1   \n",
       "3                         The Godfather: Part IIÊ           33           1   \n",
       "4  The Lord of the Rings: The Return of the KingÊ           83           1   \n",
       "5                                   Pulp FictionÊ           85           1   \n",
       "6                 The Good, the Bad and the UglyÊ           98           2   \n",
       "7                               Schindler's ListÊ          103           1   \n",
       "8                                      InceptionÊ           16           1   \n",
       "9                                     Fight ClubÊ           22           1   \n",
       "\n",
       "  content_rating  title_year  imdb_score      gross  duration  \n",
       "0              R        1994         9.3   28341469       142  \n",
       "1              R        1972         9.2  134821952       175  \n",
       "2          PG-13        2008         9.0  533316061       152  \n",
       "3              R        1974         9.0   57300000       220  \n",
       "4          PG-13        2003         8.9  377019252       192  \n",
       "5              R        1994         8.9  107930000       178  \n",
       "6       Approved        1966         8.9    6100000       142  \n",
       "7              R        1993         8.9   96067179       185  \n",
       "8          PG-13        2010         8.8  292568851       148  \n",
       "9              R        1999         8.8   37023395       151  "
      ]
     },
     "execution_count": 5,
     "metadata": {},
     "output_type": "execute_result"
    }
   ],
   "source": [
    "#Display the first 10 rows of data in the sheet 'imdb'\n",
    "\n",
    "print('The first 10 enteries off the \\'imdb\\' sheet:')\n",
    "df.head(10)\n"
   ]
  },
  {
   "cell_type": "markdown",
   "id": "c70631a8",
   "metadata": {},
   "source": [
    " "
   ]
  },
  {
   "cell_type": "markdown",
   "id": "2790fbe9",
   "metadata": {},
   "source": [
    "### Part Two: Data Merging, Updating, & Querying"
   ]
  },
  {
   "cell_type": "markdown",
   "id": "99032566",
   "metadata": {},
   "source": [
    "**1. Merging Data**"
   ]
  },
  {
   "cell_type": "code",
   "execution_count": 6,
   "id": "4f954139",
   "metadata": {},
   "outputs": [
    {
     "data": {
      "text/html": [
       "<div>\n",
       "<style scoped>\n",
       "    .dataframe tbody tr th:only-of-type {\n",
       "        vertical-align: middle;\n",
       "    }\n",
       "\n",
       "    .dataframe tbody tr th {\n",
       "        vertical-align: top;\n",
       "    }\n",
       "\n",
       "    .dataframe thead th {\n",
       "        text-align: right;\n",
       "    }\n",
       "</style>\n",
       "<table border=\"1\" class=\"dataframe\">\n",
       "  <thead>\n",
       "    <tr style=\"text-align: right;\">\n",
       "      <th></th>\n",
       "      <th>movie_title</th>\n",
       "      <th>title_year</th>\n",
       "      <th>imdb_score</th>\n",
       "      <th>duration</th>\n",
       "      <th>gross</th>\n",
       "      <th>content_rating</th>\n",
       "      <th>director_name</th>\n",
       "      <th>director_id</th>\n",
       "      <th>country</th>\n",
       "      <th>country_id</th>\n",
       "    </tr>\n",
       "  </thead>\n",
       "  <tbody>\n",
       "    <tr>\n",
       "      <th>0</th>\n",
       "      <td>The Shawshank RedemptionÊ</td>\n",
       "      <td>1994</td>\n",
       "      <td>9.3</td>\n",
       "      <td>142</td>\n",
       "      <td>28341469</td>\n",
       "      <td>R</td>\n",
       "      <td>Frank Darabont</td>\n",
       "      <td>34</td>\n",
       "      <td>USA</td>\n",
       "      <td>1</td>\n",
       "    </tr>\n",
       "    <tr>\n",
       "      <th>1</th>\n",
       "      <td>The Green MileÊ</td>\n",
       "      <td>1999</td>\n",
       "      <td>8.5</td>\n",
       "      <td>189</td>\n",
       "      <td>136801374</td>\n",
       "      <td>R</td>\n",
       "      <td>Frank Darabont</td>\n",
       "      <td>34</td>\n",
       "      <td>USA</td>\n",
       "      <td>1</td>\n",
       "    </tr>\n",
       "    <tr>\n",
       "      <th>2</th>\n",
       "      <td>The GodfatherÊ</td>\n",
       "      <td>1972</td>\n",
       "      <td>9.2</td>\n",
       "      <td>175</td>\n",
       "      <td>134821952</td>\n",
       "      <td>R</td>\n",
       "      <td>Francis Ford Coppola</td>\n",
       "      <td>33</td>\n",
       "      <td>USA</td>\n",
       "      <td>1</td>\n",
       "    </tr>\n",
       "    <tr>\n",
       "      <th>3</th>\n",
       "      <td>The Godfather: Part IIÊ</td>\n",
       "      <td>1974</td>\n",
       "      <td>9.0</td>\n",
       "      <td>220</td>\n",
       "      <td>57300000</td>\n",
       "      <td>R</td>\n",
       "      <td>Francis Ford Coppola</td>\n",
       "      <td>33</td>\n",
       "      <td>USA</td>\n",
       "      <td>1</td>\n",
       "    </tr>\n",
       "    <tr>\n",
       "      <th>4</th>\n",
       "      <td>Apocalypse NowÊ</td>\n",
       "      <td>1979</td>\n",
       "      <td>8.5</td>\n",
       "      <td>289</td>\n",
       "      <td>78800000</td>\n",
       "      <td>R</td>\n",
       "      <td>Francis Ford Coppola</td>\n",
       "      <td>33</td>\n",
       "      <td>USA</td>\n",
       "      <td>1</td>\n",
       "    </tr>\n",
       "  </tbody>\n",
       "</table>\n",
       "</div>"
      ],
      "text/plain": [
       "                 movie_title  title_year  imdb_score  duration      gross  \\\n",
       "0  The Shawshank RedemptionÊ        1994         9.3       142   28341469   \n",
       "1            The Green MileÊ        1999         8.5       189  136801374   \n",
       "2             The GodfatherÊ        1972         9.2       175  134821952   \n",
       "3    The Godfather: Part IIÊ        1974         9.0       220   57300000   \n",
       "4            Apocalypse NowÊ        1979         8.5       289   78800000   \n",
       "\n",
       "  content_rating         director_name  director_id country  country_id  \n",
       "0              R        Frank Darabont           34     USA           1  \n",
       "1              R        Frank Darabont           34     USA           1  \n",
       "2              R  Francis Ford Coppola           33     USA           1  \n",
       "3              R  Francis Ford Coppola           33     USA           1  \n",
       "4              R  Francis Ford Coppola           33     USA           1  "
      ]
     },
     "execution_count": 6,
     "metadata": {},
     "output_type": "execute_result"
    }
   ],
   "source": [
    "#Joining the three dataframes: df, df_countries, and df_directors (with an 'inner' join)\n",
    "#Merging dataframe df with df_directors\n",
    "df = pd.merge(left=df,\n",
    "              right=df_directors,\n",
    "              how='inner',\n",
    "              left_on='director_id',\n",
    "              right_on='id')\n",
    "\n",
    "#Merging dataframe df with df_countries\n",
    "df = pd.merge(left=df,\n",
    "              right=df_countries,\n",
    "              how='inner',\n",
    "              left_on='country_id',\n",
    "              right_on='id')\n",
    "\n",
    "#removing unnecessary columns\n",
    "del df['id_x']\n",
    "del df['id_y']\n",
    "\n",
    "#removing duplicate items (in case merging resulted in duplication)\n",
    "df = df.drop_duplicates().reset_index(drop=True)\n",
    "\n",
    "#Rearranging the coloumns order\n",
    "rearranged_coloumns = ['movie_title', 'title_year', 'imdb_score', 'duration', 'gross', 'content_rating',\n",
    "                       'director_name', 'director_id', 'country', 'country_id']\n",
    "df = df.reindex(columns=rearranged_coloumns)\n",
    "\n",
    "\n",
    "#printing the first 5 enteries to see data after merging and updating \n",
    "df.head()\n"
   ]
  },
  {
   "cell_type": "markdown",
   "id": "50be220e",
   "metadata": {},
   "source": [
    " "
   ]
  },
  {
   "cell_type": "markdown",
   "id": "2a5ec069",
   "metadata": {},
   "source": [
    "**2. Display the  first ten rows in the coloumn 'movie title'**"
   ]
  },
  {
   "cell_type": "code",
   "execution_count": 7,
   "id": "fde793cf",
   "metadata": {},
   "outputs": [
    {
     "name": "stdout",
     "output_type": "stream",
     "text": [
      "first 10 movies on the list:\n"
     ]
    },
    {
     "data": {
      "text/plain": [
       "0    The Shawshank RedemptionÊ\n",
       "1              The Green MileÊ\n",
       "2               The GodfatherÊ\n",
       "3      The Godfather: Part IIÊ\n",
       "4              Apocalypse NowÊ\n",
       "5             The Dark KnightÊ\n",
       "6                   InceptionÊ\n",
       "7                InterstellarÊ\n",
       "8                     MementoÊ\n",
       "9                The PrestigeÊ\n",
       "Name: movie_title, dtype: object"
      ]
     },
     "execution_count": 7,
     "metadata": {},
     "output_type": "execute_result"
    }
   ],
   "source": [
    "#storing the first 10 enteries off 'movie_title' into a dataframe \n",
    "first10_titles = df['movie_title'].head(10)\n",
    "#displaying the results \n",
    "print('first 10 movies on the list:') \n",
    "first10_titles\n"
   ]
  },
  {
   "cell_type": "markdown",
   "id": "6d6224b4",
   "metadata": {},
   "source": [
    " "
   ]
  },
  {
   "cell_type": "markdown",
   "id": "f428a8a8",
   "metadata": {},
   "source": [
    "**2.2. Remove the extra character at the end of each movie title and report the first ten movie titles again**"
   ]
  },
  {
   "cell_type": "code",
   "execution_count": 8,
   "id": "ea98b47a",
   "metadata": {},
   "outputs": [
    {
     "name": "stdout",
     "output_type": "stream",
     "text": [
      "First 10 movies titles after fixing:\n"
     ]
    },
    {
     "data": {
      "text/plain": [
       "0    The Shawshank Redemption\n",
       "1              The Green Mile\n",
       "2               The Godfather\n",
       "3      The Godfather: Part II\n",
       "4              Apocalypse Now\n",
       "5             The Dark Knight\n",
       "6                   Inception\n",
       "7                Interstellar\n",
       "8                     Memento\n",
       "9                The Prestige\n",
       "Name: movie_title, dtype: object"
      ]
     },
     "execution_count": 8,
     "metadata": {},
     "output_type": "execute_result"
    }
   ],
   "source": [
    "#traversing the 'movie_title' coloumn to remove the extra character from each row\n",
    "df['movie_title'] = df['movie_title'].str.replace('Ê', '')\n",
    "\n",
    "#displaying the first 10 movie titles\n",
    "print('First 10 movies titles after fixing:')\n",
    "df['movie_title'].head(10)\n"
   ]
  },
  {
   "cell_type": "markdown",
   "id": "5c96b79a",
   "metadata": {},
   "source": [
    " "
   ]
  },
  {
   "cell_type": "markdown",
   "id": "6bc2c7df",
   "metadata": {},
   "source": [
    "##### Data Querying\n"
   ]
  },
  {
   "cell_type": "markdown",
   "id": "b797dc7c",
   "metadata": {},
   "source": [
    "**3. Who is the director with the most movies?**"
   ]
  },
  {
   "cell_type": "code",
   "execution_count": 9,
   "id": "9d6d693f",
   "metadata": {},
   "outputs": [
    {
     "name": "stdout",
     "output_type": "stream",
     "text": [
      "The director most featured and the frequency:\n",
      " Christopher Nolan    7\n",
      "Name: director_name, dtype: int64\n"
     ]
    }
   ],
   "source": [
    "#reporting the frequency of directors listed \n",
    "director_freq = df['director_name'].value_counts()      \n",
    "print('The director most featured and the frequency:\\n', director_freq.head(1))\n"
   ]
  },
  {
   "cell_type": "markdown",
   "id": "65ae9593",
   "metadata": {},
   "source": [
    " "
   ]
  },
  {
   "cell_type": "markdown",
   "id": "9811bd8b",
   "metadata": {},
   "source": [
    "**4. Report all of this director's movies and their movie rating scores**"
   ]
  },
  {
   "cell_type": "code",
   "execution_count": 10,
   "id": "b83233d5",
   "metadata": {},
   "outputs": [
    {
     "name": "stdout",
     "output_type": "stream",
     "text": [
      "Christopher Nolan's movies and their imdb ratings are as follows:\n"
     ]
    },
    {
     "data": {
      "text/html": [
       "<div>\n",
       "<style scoped>\n",
       "    .dataframe tbody tr th:only-of-type {\n",
       "        vertical-align: middle;\n",
       "    }\n",
       "\n",
       "    .dataframe tbody tr th {\n",
       "        vertical-align: top;\n",
       "    }\n",
       "\n",
       "    .dataframe thead th {\n",
       "        text-align: right;\n",
       "    }\n",
       "</style>\n",
       "<table border=\"1\" class=\"dataframe\">\n",
       "  <thead>\n",
       "    <tr style=\"text-align: right;\">\n",
       "      <th></th>\n",
       "      <th>index</th>\n",
       "      <th>movie_title</th>\n",
       "      <th>imdb_score</th>\n",
       "    </tr>\n",
       "  </thead>\n",
       "  <tbody>\n",
       "    <tr>\n",
       "      <th>0</th>\n",
       "      <td>5</td>\n",
       "      <td>The Dark Knight</td>\n",
       "      <td>9.0</td>\n",
       "    </tr>\n",
       "    <tr>\n",
       "      <th>1</th>\n",
       "      <td>6</td>\n",
       "      <td>Inception</td>\n",
       "      <td>8.8</td>\n",
       "    </tr>\n",
       "    <tr>\n",
       "      <th>2</th>\n",
       "      <td>7</td>\n",
       "      <td>Interstellar</td>\n",
       "      <td>8.6</td>\n",
       "    </tr>\n",
       "    <tr>\n",
       "      <th>3</th>\n",
       "      <td>8</td>\n",
       "      <td>Memento</td>\n",
       "      <td>8.5</td>\n",
       "    </tr>\n",
       "    <tr>\n",
       "      <th>4</th>\n",
       "      <td>9</td>\n",
       "      <td>The Prestige</td>\n",
       "      <td>8.5</td>\n",
       "    </tr>\n",
       "    <tr>\n",
       "      <th>5</th>\n",
       "      <td>10</td>\n",
       "      <td>The Dark Knight Rises</td>\n",
       "      <td>8.5</td>\n",
       "    </tr>\n",
       "    <tr>\n",
       "      <th>6</th>\n",
       "      <td>11</td>\n",
       "      <td>Batman Begins</td>\n",
       "      <td>8.3</td>\n",
       "    </tr>\n",
       "  </tbody>\n",
       "</table>\n",
       "</div>"
      ],
      "text/plain": [
       "   index            movie_title  imdb_score\n",
       "0      5        The Dark Knight         9.0\n",
       "1      6              Inception         8.8\n",
       "2      7           Interstellar         8.6\n",
       "3      8                Memento         8.5\n",
       "4      9           The Prestige         8.5\n",
       "5     10  The Dark Knight Rises         8.5\n",
       "6     11          Batman Begins         8.3"
      ]
     },
     "execution_count": 10,
     "metadata": {},
     "output_type": "execute_result"
    }
   ],
   "source": [
    "#get the first entry in 'director_freq'\n",
    "most_featured = director_freq.head(1)\n",
    "#get the director's name \n",
    "most_featured = most_featured.index[0] \n",
    "\n",
    "#filtering dataframe by the director name\n",
    "director_filter = df['director_name'] == most_featured\n",
    "all_movies_ratings = df[director_filter][['movie_title', 'imdb_score']]  \n",
    "all_movies_ratings.reset_index(inplace=True) \n",
    "\n",
    "#reporting the most featured director's movies\n",
    "print('{}\\'s movies and their imdb ratings are as follows:'.format(most_featured))\n",
    "all_movies_ratings\n"
   ]
  },
  {
   "cell_type": "markdown",
   "id": "cb61eab9",
   "metadata": {},
   "source": [
    " "
   ]
  },
  {
   "cell_type": "markdown",
   "id": "9de1816b",
   "metadata": {},
   "source": [
    "**5. Recommend a random movie that has a rating of 8.5 or above. Report the title and imdb score of your recommendation.**\n"
   ]
  },
  {
   "cell_type": "code",
   "execution_count": 11,
   "id": "78044169",
   "metadata": {},
   "outputs": [
    {
     "name": "stdout",
     "output_type": "stream",
     "text": [
      "Here is your recommendation of a highly rated movie:\n"
     ]
    },
    {
     "data": {
      "text/html": [
       "<div>\n",
       "<style scoped>\n",
       "    .dataframe tbody tr th:only-of-type {\n",
       "        vertical-align: middle;\n",
       "    }\n",
       "\n",
       "    .dataframe tbody tr th {\n",
       "        vertical-align: top;\n",
       "    }\n",
       "\n",
       "    .dataframe thead th {\n",
       "        text-align: right;\n",
       "    }\n",
       "</style>\n",
       "<table border=\"1\" class=\"dataframe\">\n",
       "  <thead>\n",
       "    <tr style=\"text-align: right;\">\n",
       "      <th></th>\n",
       "      <th>movie_title</th>\n",
       "      <th>imdb_score</th>\n",
       "    </tr>\n",
       "  </thead>\n",
       "  <tbody>\n",
       "    <tr>\n",
       "      <th>6</th>\n",
       "      <td>Inception</td>\n",
       "      <td>8.8</td>\n",
       "    </tr>\n",
       "  </tbody>\n",
       "</table>\n",
       "</div>"
      ],
      "text/plain": [
       "  movie_title  imdb_score\n",
       "6   Inception         8.8"
      ]
     },
     "execution_count": 11,
     "metadata": {},
     "output_type": "execute_result"
    }
   ],
   "source": [
    "#filtering dataframe by rating score\n",
    "RatingFilter = df['imdb_score'] >= 8.5     \n",
    "df_TopMovies = df[RatingFilter]\n",
    "\n",
    "#Reporting a random movie (via a randomly generated index)\n",
    "import random\n",
    "random_index = random.randint(0, len(df_TopMovies) - 1)         #get a random index\n",
    "random_movie = df_TopMovies[random_index: random_index+1]         #select movie by random index\n",
    "random_movie = random_movie[['movie_title', 'imdb_score']]        #get the movie title and rating score only \n",
    "print('Here is your recommendation of a highly rated movie:')\n",
    "random_movie\n",
    "\n"
   ]
  },
  {
   "cell_type": "markdown",
   "id": "4bba6792",
   "metadata": {},
   "source": [
    " "
   ]
  },
  {
   "cell_type": "markdown",
   "id": "0629c177",
   "metadata": {},
   "source": [
    "### Part Three: Grouping and Summarizing Data (statistical analysis)"
   ]
  },
  {
   "cell_type": "markdown",
   "id": "9dac9eff",
   "metadata": {},
   "source": [
    "**1. Get the summary statistics (mean, std, percentile, etc.) for movies rating scores and gross amount**"
   ]
  },
  {
   "cell_type": "code",
   "execution_count": 12,
   "id": "9064f77b",
   "metadata": {},
   "outputs": [
    {
     "name": "stdout",
     "output_type": "stream",
     "text": [
      "This table provides summary statistics for movies rating scores and gross amounts:\n"
     ]
    },
    {
     "data": {
      "text/html": [
       "<div>\n",
       "<style scoped>\n",
       "    .dataframe tbody tr th:only-of-type {\n",
       "        vertical-align: middle;\n",
       "    }\n",
       "\n",
       "    .dataframe tbody tr th {\n",
       "        vertical-align: top;\n",
       "    }\n",
       "\n",
       "    .dataframe thead th {\n",
       "        text-align: right;\n",
       "    }\n",
       "</style>\n",
       "<table border=\"1\" class=\"dataframe\">\n",
       "  <thead>\n",
       "    <tr style=\"text-align: right;\">\n",
       "      <th></th>\n",
       "      <th>imdb_score</th>\n",
       "      <th>gross</th>\n",
       "    </tr>\n",
       "  </thead>\n",
       "  <tbody>\n",
       "    <tr>\n",
       "      <th>count</th>\n",
       "      <td>178.00</td>\n",
       "      <td>178.00</td>\n",
       "    </tr>\n",
       "    <tr>\n",
       "      <th>mean</th>\n",
       "      <td>8.29</td>\n",
       "      <td>103040175.47</td>\n",
       "    </tr>\n",
       "    <tr>\n",
       "      <th>std</th>\n",
       "      <td>0.27</td>\n",
       "      <td>124254876.24</td>\n",
       "    </tr>\n",
       "    <tr>\n",
       "      <th>min</th>\n",
       "      <td>8.00</td>\n",
       "      <td>8060.00</td>\n",
       "    </tr>\n",
       "    <tr>\n",
       "      <th>25%</th>\n",
       "      <td>8.10</td>\n",
       "      <td>13185097.00</td>\n",
       "    </tr>\n",
       "    <tr>\n",
       "      <th>50%</th>\n",
       "      <td>8.20</td>\n",
       "      <td>51943707.00</td>\n",
       "    </tr>\n",
       "    <tr>\n",
       "      <th>75%</th>\n",
       "      <td>8.47</td>\n",
       "      <td>152243552.50</td>\n",
       "    </tr>\n",
       "    <tr>\n",
       "      <th>max</th>\n",
       "      <td>9.30</td>\n",
       "      <td>623279547.00</td>\n",
       "    </tr>\n",
       "  </tbody>\n",
       "</table>\n",
       "</div>"
      ],
      "text/plain": [
       "       imdb_score        gross\n",
       "count      178.00       178.00\n",
       "mean         8.29 103040175.47\n",
       "std          0.27 124254876.24\n",
       "min          8.00      8060.00\n",
       "25%          8.10  13185097.00\n",
       "50%          8.20  51943707.00\n",
       "75%          8.47 152243552.50\n",
       "max          9.30 623279547.00"
      ]
     },
     "execution_count": 12,
     "metadata": {},
     "output_type": "execute_result"
    }
   ],
   "source": [
    "pd.options.display.float_format = '{:.2f}'.format          #to display numeric values in full without converting them to float\n",
    "score_gross_description = df[['imdb_score', 'gross']].describe()\n",
    "print('This table provides summary statistics for movies rating scores and gross amounts:')\n",
    "score_gross_description\n"
   ]
  },
  {
   "cell_type": "markdown",
   "id": "948d3ea7",
   "metadata": {},
   "source": [
    " "
   ]
  },
  {
   "cell_type": "markdown",
   "id": "e5884fe2",
   "metadata": {},
   "source": [
    "**2. What is the average score rating of the director Christopher Nolan's movies?**"
   ]
  },
  {
   "cell_type": "code",
   "execution_count": 13,
   "id": "f37ad882",
   "metadata": {},
   "outputs": [
    {
     "name": "stdout",
     "output_type": "stream",
     "text": [
      "The average rating score of a Christopher Nolan movie is: 8.6\n"
     ]
    }
   ],
   "source": [
    "#Filtering by director name, 'Christopher Nolan'\n",
    "chris_nolan = df['director_name'] == 'Christopher Nolan'\n",
    "nolan_mean = df[chris_nolan]['imdb_score'].mean()\n",
    "print('The average rating score of a Christopher Nolan movie is:', nolan_mean)\n",
    "\n"
   ]
  },
  {
   "cell_type": "markdown",
   "id": "f9a26c02",
   "metadata": {},
   "source": [
    " "
   ]
  },
  {
   "cell_type": "markdown",
   "id": "bb20c2c8",
   "metadata": {},
   "source": [
    "**3. What is the average score rating for each director featured?**"
   ]
  },
  {
   "cell_type": "code",
   "execution_count": 14,
   "id": "2a3d957a",
   "metadata": {},
   "outputs": [
    {
     "name": "stdout",
     "output_type": "stream",
     "text": [
      "The following table lists each director featured and their average rating score:\n"
     ]
    },
    {
     "data": {
      "text/html": [
       "<div>\n",
       "<style scoped>\n",
       "    .dataframe tbody tr th:only-of-type {\n",
       "        vertical-align: middle;\n",
       "    }\n",
       "\n",
       "    .dataframe tbody tr th {\n",
       "        vertical-align: top;\n",
       "    }\n",
       "\n",
       "    .dataframe thead th {\n",
       "        text-align: right;\n",
       "    }\n",
       "</style>\n",
       "<table border=\"1\" class=\"dataframe\">\n",
       "  <thead>\n",
       "    <tr style=\"text-align: right;\">\n",
       "      <th></th>\n",
       "      <th>mean</th>\n",
       "    </tr>\n",
       "    <tr>\n",
       "      <th>director_name</th>\n",
       "      <th></th>\n",
       "    </tr>\n",
       "  </thead>\n",
       "  <tbody>\n",
       "    <tr>\n",
       "      <th>Akira Kurosawa</th>\n",
       "      <td>8.70</td>\n",
       "    </tr>\n",
       "    <tr>\n",
       "      <th>Alejandro Amenabar</th>\n",
       "      <td>8.10</td>\n",
       "    </tr>\n",
       "    <tr>\n",
       "      <th>Alejandro G. Inarritu</th>\n",
       "      <td>8.10</td>\n",
       "    </tr>\n",
       "    <tr>\n",
       "      <th>Alfred Hitchcock</th>\n",
       "      <td>8.50</td>\n",
       "    </tr>\n",
       "    <tr>\n",
       "      <th>Andrew Stanton</th>\n",
       "      <td>8.30</td>\n",
       "    </tr>\n",
       "    <tr>\n",
       "      <th>...</th>\n",
       "      <td>...</td>\n",
       "    </tr>\n",
       "    <tr>\n",
       "      <th>Victor Fleming</th>\n",
       "      <td>8.15</td>\n",
       "    </tr>\n",
       "    <tr>\n",
       "      <th>Vincent Paronnaud</th>\n",
       "      <td>8.00</td>\n",
       "    </tr>\n",
       "    <tr>\n",
       "      <th>Wes Anderson</th>\n",
       "      <td>8.10</td>\n",
       "    </tr>\n",
       "    <tr>\n",
       "      <th>Wolfgang Petersen</th>\n",
       "      <td>8.40</td>\n",
       "    </tr>\n",
       "    <tr>\n",
       "      <th>Woody Allen</th>\n",
       "      <td>8.10</td>\n",
       "    </tr>\n",
       "  </tbody>\n",
       "</table>\n",
       "<p>117 rows × 1 columns</p>\n",
       "</div>"
      ],
      "text/plain": [
       "                       mean\n",
       "director_name              \n",
       "Akira Kurosawa         8.70\n",
       "Alejandro Amenabar     8.10\n",
       "Alejandro G. Inarritu  8.10\n",
       "Alfred Hitchcock       8.50\n",
       "Andrew Stanton         8.30\n",
       "...                     ...\n",
       "Victor Fleming         8.15\n",
       "Vincent Paronnaud      8.00\n",
       "Wes Anderson           8.10\n",
       "Wolfgang Petersen      8.40\n",
       "Woody Allen            8.10\n",
       "\n",
       "[117 rows x 1 columns]"
      ]
     },
     "execution_count": 14,
     "metadata": {},
     "output_type": "execute_result"
    }
   ],
   "source": [
    "#Grouping directors by name and reporting the mean rating for each\n",
    "directors = df.groupby('director_name').agg([np.mean])['imdb_score']\n",
    "print('The following table lists each director featured and their average rating score:')\n",
    "directors\n"
   ]
  },
  {
   "cell_type": "markdown",
   "id": "d4dca460",
   "metadata": {},
   "source": [
    " "
   ]
  },
  {
   "cell_type": "markdown",
   "id": "eb4ec113",
   "metadata": {},
   "source": [
    "**Sort the list from director with the highest mean rating to director with the least mean rating**"
   ]
  },
  {
   "cell_type": "code",
   "execution_count": 15,
   "id": "662d96c3",
   "metadata": {},
   "outputs": [
    {
     "name": "stdout",
     "output_type": "stream",
     "text": [
      "Directors and their average rating score from the highest to lowest:\n"
     ]
    },
    {
     "data": {
      "text/html": [
       "<div>\n",
       "<style scoped>\n",
       "    .dataframe tbody tr th:only-of-type {\n",
       "        vertical-align: middle;\n",
       "    }\n",
       "\n",
       "    .dataframe tbody tr th {\n",
       "        vertical-align: top;\n",
       "    }\n",
       "\n",
       "    .dataframe thead th {\n",
       "        text-align: right;\n",
       "    }\n",
       "</style>\n",
       "<table border=\"1\" class=\"dataframe\">\n",
       "  <thead>\n",
       "    <tr style=\"text-align: right;\">\n",
       "      <th></th>\n",
       "      <th>mean</th>\n",
       "    </tr>\n",
       "    <tr>\n",
       "      <th>director_name</th>\n",
       "      <th></th>\n",
       "    </tr>\n",
       "  </thead>\n",
       "  <tbody>\n",
       "    <tr>\n",
       "      <th>Frank Darabont</th>\n",
       "      <td>8.90</td>\n",
       "    </tr>\n",
       "    <tr>\n",
       "      <th>Francis Ford Coppola</th>\n",
       "      <td>8.90</td>\n",
       "    </tr>\n",
       "    <tr>\n",
       "      <th>Irvin Kershner</th>\n",
       "      <td>8.80</td>\n",
       "    </tr>\n",
       "    <tr>\n",
       "      <th>Peter Jackson</th>\n",
       "      <td>8.80</td>\n",
       "    </tr>\n",
       "    <tr>\n",
       "      <th>Fernando Meirelles</th>\n",
       "      <td>8.70</td>\n",
       "    </tr>\n",
       "    <tr>\n",
       "      <th>...</th>\n",
       "      <td>...</td>\n",
       "    </tr>\n",
       "    <tr>\n",
       "      <th>Lars von Trier</th>\n",
       "      <td>8.00</td>\n",
       "    </tr>\n",
       "    <tr>\n",
       "      <th>Karan Johar</th>\n",
       "      <td>8.00</td>\n",
       "    </tr>\n",
       "    <tr>\n",
       "      <th>Stephen Chbosky</th>\n",
       "      <td>8.00</td>\n",
       "    </tr>\n",
       "    <tr>\n",
       "      <th>Julian Schnabel</th>\n",
       "      <td>8.00</td>\n",
       "    </tr>\n",
       "    <tr>\n",
       "      <th>Jean-Marc Vallee</th>\n",
       "      <td>8.00</td>\n",
       "    </tr>\n",
       "  </tbody>\n",
       "</table>\n",
       "<p>117 rows × 1 columns</p>\n",
       "</div>"
      ],
      "text/plain": [
       "                      mean\n",
       "director_name             \n",
       "Frank Darabont        8.90\n",
       "Francis Ford Coppola  8.90\n",
       "Irvin Kershner        8.80\n",
       "Peter Jackson         8.80\n",
       "Fernando Meirelles    8.70\n",
       "...                    ...\n",
       "Lars von Trier        8.00\n",
       "Karan Johar           8.00\n",
       "Stephen Chbosky       8.00\n",
       "Julian Schnabel       8.00\n",
       "Jean-Marc Vallee      8.00\n",
       "\n",
       "[117 rows x 1 columns]"
      ]
     },
     "execution_count": 15,
     "metadata": {},
     "output_type": "execute_result"
    }
   ],
   "source": [
    "#Sorting 'directors' by mean rating score (from highest to lowest)\n",
    "directors_sorted = directors.sort_values('mean', ascending=False)\n",
    "print('Directors and their average rating score from the highest to lowest:')\n",
    "directors_sorted\n"
   ]
  },
  {
   "cell_type": "markdown",
   "id": "a70634dc",
   "metadata": {},
   "source": [
    " "
   ]
  },
  {
   "cell_type": "markdown",
   "id": "2f87a996",
   "metadata": {},
   "source": [
    "**Report the director with the highest average rating score**"
   ]
  },
  {
   "cell_type": "code",
   "execution_count": 16,
   "id": "958b4fc9",
   "metadata": {},
   "outputs": [
    {
     "name": "stdout",
     "output_type": "stream",
     "text": [
      "Director with the highest average rating score is: Frank Darabont\n"
     ]
    }
   ],
   "source": [
    "print('Director with the highest average rating score is:', directors_sorted.index[0])\n"
   ]
  },
  {
   "cell_type": "markdown",
   "id": "e7202e4c",
   "metadata": {},
   "source": [
    " "
   ]
  },
  {
   "cell_type": "markdown",
   "id": "a6054978",
   "metadata": {},
   "source": [
    "**4.Report the non-USA movies directed by Hayao Miyazaki and released after 1960**"
   ]
  },
  {
   "cell_type": "code",
   "execution_count": 17,
   "id": "89c2d8c0",
   "metadata": {},
   "outputs": [
    {
     "name": "stdout",
     "output_type": "stream",
     "text": [
      "Movies directed by Hayao Miyazaki after 1960:\n"
     ]
    },
    {
     "data": {
      "text/html": [
       "<div>\n",
       "<style scoped>\n",
       "    .dataframe tbody tr th:only-of-type {\n",
       "        vertical-align: middle;\n",
       "    }\n",
       "\n",
       "    .dataframe tbody tr th {\n",
       "        vertical-align: top;\n",
       "    }\n",
       "\n",
       "    .dataframe thead th {\n",
       "        text-align: right;\n",
       "    }\n",
       "</style>\n",
       "<table border=\"1\" class=\"dataframe\">\n",
       "  <thead>\n",
       "    <tr style=\"text-align: right;\">\n",
       "      <th></th>\n",
       "      <th>movie_title</th>\n",
       "      <th>title_year</th>\n",
       "      <th>imdb_score</th>\n",
       "      <th>duration</th>\n",
       "      <th>gross</th>\n",
       "      <th>content_rating</th>\n",
       "      <th>director_name</th>\n",
       "      <th>director_id</th>\n",
       "      <th>country</th>\n",
       "      <th>country_id</th>\n",
       "    </tr>\n",
       "  </thead>\n",
       "  <tbody>\n",
       "    <tr>\n",
       "      <th>128</th>\n",
       "      <td>Spirited Away</td>\n",
       "      <td>2001</td>\n",
       "      <td>8.60</td>\n",
       "      <td>125</td>\n",
       "      <td>10049886</td>\n",
       "      <td>PG</td>\n",
       "      <td>Hayao Miyazaki</td>\n",
       "      <td>46</td>\n",
       "      <td>Japan</td>\n",
       "      <td>4</td>\n",
       "    </tr>\n",
       "    <tr>\n",
       "      <th>129</th>\n",
       "      <td>Princess Mononoke</td>\n",
       "      <td>1997</td>\n",
       "      <td>8.40</td>\n",
       "      <td>134</td>\n",
       "      <td>2298191</td>\n",
       "      <td>PG-13</td>\n",
       "      <td>Hayao Miyazaki</td>\n",
       "      <td>46</td>\n",
       "      <td>Japan</td>\n",
       "      <td>4</td>\n",
       "    </tr>\n",
       "    <tr>\n",
       "      <th>130</th>\n",
       "      <td>Howl's Moving Castle</td>\n",
       "      <td>2004</td>\n",
       "      <td>8.20</td>\n",
       "      <td>119</td>\n",
       "      <td>4710455</td>\n",
       "      <td>PG</td>\n",
       "      <td>Hayao Miyazaki</td>\n",
       "      <td>46</td>\n",
       "      <td>Japan</td>\n",
       "      <td>4</td>\n",
       "    </tr>\n",
       "  </tbody>\n",
       "</table>\n",
       "</div>"
      ],
      "text/plain": [
       "              movie_title  title_year  imdb_score  duration     gross  \\\n",
       "128         Spirited Away        2001        8.60       125  10049886   \n",
       "129     Princess Mononoke        1997        8.40       134   2298191   \n",
       "130  Howl's Moving Castle        2004        8.20       119   4710455   \n",
       "\n",
       "    content_rating   director_name  director_id country  country_id  \n",
       "128             PG  Hayao Miyazaki           46   Japan           4  \n",
       "129          PG-13  Hayao Miyazaki           46   Japan           4  \n",
       "130             PG  Hayao Miyazaki           46   Japan           4  "
      ]
     },
     "execution_count": 17,
     "metadata": {},
     "output_type": "execute_result"
    }
   ],
   "source": [
    "#Filtering data by country (id), release year, and director name\n",
    "foreign_movies = df['country_id'] != 1\n",
    "year_filter = df['title_year'] > 1960\n",
    "director_filter = df['director_name'] == 'Hayao Miyazaki'\n",
    "\n",
    "#Reporting non-USA movies made after 1960 by Hayao Miyazaki\n",
    "miyazaki = df[foreign_movies & year_filter & director_filter]\n",
    "print('Movies directed by Hayao Miyazaki after 1960:')\n",
    "miyazaki\n"
   ]
  },
  {
   "cell_type": "markdown",
   "id": "9dee31fd",
   "metadata": {},
   "source": [
    " "
   ]
  },
  {
   "cell_type": "markdown",
   "id": "ed0bd279",
   "metadata": {},
   "source": [
    "**5. What is the total runtime of the movie Gladiator?**"
   ]
  },
  {
   "cell_type": "code",
   "execution_count": 18,
   "id": "f1e947b8",
   "metadata": {},
   "outputs": [
    {
     "name": "stdout",
     "output_type": "stream",
     "text": [
      "Gladiator's runtime is: 171 minutes.\n"
     ]
    }
   ],
   "source": [
    "#Filtering data for only the movie 'Gladiator'\n",
    "gladiator_filter = df['movie_title'] == 'Gladiator'\n",
    "gladiator_duration = df[gladiator_filter]['duration']\n",
    "print('Gladiator\\'s runtime is:', gladiator_duration.values[0], 'minutes.')\n"
   ]
  },
  {
   "cell_type": "markdown",
   "id": "23c37e8e",
   "metadata": {},
   "source": [
    " "
   ]
  },
  {
   "cell_type": "markdown",
   "id": "2b093161",
   "metadata": {},
   "source": [
    "**6. Create a Pivot Table that shows the median rating for each director, grouped by their respective countries.**"
   ]
  },
  {
   "cell_type": "code",
   "execution_count": 19,
   "id": "23426261",
   "metadata": {},
   "outputs": [
    {
     "name": "stdout",
     "output_type": "stream",
     "text": [
      "Median rating for each director by their respective countries:\n"
     ]
    },
    {
     "data": {
      "text/html": [
       "<div>\n",
       "<style scoped>\n",
       "    .dataframe tbody tr th:only-of-type {\n",
       "        vertical-align: middle;\n",
       "    }\n",
       "\n",
       "    .dataframe tbody tr th {\n",
       "        vertical-align: top;\n",
       "    }\n",
       "\n",
       "    .dataframe thead th {\n",
       "        text-align: right;\n",
       "    }\n",
       "</style>\n",
       "<table border=\"1\" class=\"dataframe\">\n",
       "  <thead>\n",
       "    <tr style=\"text-align: right;\">\n",
       "      <th></th>\n",
       "      <th></th>\n",
       "      <th>imdb_score</th>\n",
       "    </tr>\n",
       "    <tr>\n",
       "      <th>country</th>\n",
       "      <th>director_name</th>\n",
       "      <th></th>\n",
       "    </tr>\n",
       "  </thead>\n",
       "  <tbody>\n",
       "    <tr>\n",
       "      <th>Argentina</th>\n",
       "      <th>Juan Jose Campanella</th>\n",
       "      <td>8.20</td>\n",
       "    </tr>\n",
       "    <tr>\n",
       "      <th>Australia</th>\n",
       "      <th>George Miller</th>\n",
       "      <td>8.10</td>\n",
       "    </tr>\n",
       "    <tr>\n",
       "      <th rowspan=\"2\" valign=\"top\">Brazil</th>\n",
       "      <th>Fernando Meirelles</th>\n",
       "      <td>8.70</td>\n",
       "    </tr>\n",
       "    <tr>\n",
       "      <th>Jose Padilha</th>\n",
       "      <td>8.10</td>\n",
       "    </tr>\n",
       "    <tr>\n",
       "      <th>Canada</th>\n",
       "      <th>Denis Villeneuve</th>\n",
       "      <td>8.20</td>\n",
       "    </tr>\n",
       "    <tr>\n",
       "      <th>...</th>\n",
       "      <th>...</th>\n",
       "      <td>...</td>\n",
       "    </tr>\n",
       "    <tr>\n",
       "      <th rowspan=\"4\" valign=\"top\">USA</th>\n",
       "      <th>Tony Scott</th>\n",
       "      <td>8.00</td>\n",
       "    </tr>\n",
       "    <tr>\n",
       "      <th>Victor Fleming</th>\n",
       "      <td>8.15</td>\n",
       "    </tr>\n",
       "    <tr>\n",
       "      <th>Wes Anderson</th>\n",
       "      <td>8.10</td>\n",
       "    </tr>\n",
       "    <tr>\n",
       "      <th>Woody Allen</th>\n",
       "      <td>8.10</td>\n",
       "    </tr>\n",
       "    <tr>\n",
       "      <th>West Germany</th>\n",
       "      <th>Wolfgang Petersen</th>\n",
       "      <td>8.40</td>\n",
       "    </tr>\n",
       "  </tbody>\n",
       "</table>\n",
       "<p>125 rows × 1 columns</p>\n",
       "</div>"
      ],
      "text/plain": [
       "                                   imdb_score\n",
       "country      director_name                   \n",
       "Argentina    Juan Jose Campanella        8.20\n",
       "Australia    George Miller               8.10\n",
       "Brazil       Fernando Meirelles          8.70\n",
       "             Jose Padilha                8.10\n",
       "Canada       Denis Villeneuve            8.20\n",
       "...                                       ...\n",
       "USA          Tony Scott                  8.00\n",
       "             Victor Fleming              8.15\n",
       "             Wes Anderson                8.10\n",
       "             Woody Allen                 8.10\n",
       "West Germany Wolfgang Petersen           8.40\n",
       "\n",
       "[125 rows x 1 columns]"
      ]
     },
     "execution_count": 19,
     "metadata": {},
     "output_type": "execute_result"
    }
   ],
   "source": [
    "#Creating the pivot table\n",
    "pivot_tab = pd.pivot_table(df,\n",
    "                           index=['country', 'director_name'],          #grouping data by country followed by director\n",
    "                           values=['imdb_score'],                      #specifying the coloumn to statistically analyze ('imdb_score')\n",
    "                           aggfunc=np.median)                         #specifying the type of analysis (median)\n",
    "\n",
    "#Displaying the pivot table\n",
    "print('Median rating for each director by their respective countries:')\n",
    "pivot_tab\n"
   ]
  },
  {
   "cell_type": "markdown",
   "id": "73c1d9d8",
   "metadata": {},
   "source": [
    " "
   ]
  },
  {
   "cell_type": "markdown",
   "id": "9d23dcd9",
   "metadata": {},
   "source": [
    "### Part Four: Data Visualization"
   ]
  },
  {
   "cell_type": "markdown",
   "id": "a975982d",
   "metadata": {},
   "source": [
    "**1. Is how much a movie makes an indication of how good it is?** \n",
    "\n",
    "Compare movies gross values to their rating scores using a scatterplot to determine the relationship between them."
   ]
  },
  {
   "cell_type": "code",
   "execution_count": 20,
   "id": "f8228836",
   "metadata": {},
   "outputs": [
    {
     "data": {
      "image/png": "[encoded data removed]",
      "text/plain": [
       "<Figure size 720x504 with 1 Axes>"
      ]
     },
     "metadata": {
      "needs_background": "light"
     },
     "output_type": "display_data"
    }
   ],
   "source": [
    "#Filtering data for rating scores and gross amounts to compare them directly\n",
    "ratings = df['imdb_score']\n",
    "gross_amount = df['gross']\n",
    "\n",
    "#dividing gross amount by 1,000,000\n",
    "gross_amount = gross_amount.apply(lambda val: val/1000000)      \n",
    "\n",
    "#setting the figure size\n",
    "plt.figure(figsize=(10, 7))    # figsize=(width,height) in inches\n",
    "\n",
    "#Creating a scatterplot to compare gross amount to rating scores\n",
    "plt.scatter(gross_amount, ratings,\n",
    "            s=30,                   #specifying the size of the marker\n",
    "            marker='o',             #specifying the shape of the marker \n",
    "            c='#425ec2',            #specifying the color of the marker\n",
    "            alpha=0.70)             #specifying the degree of transparency \n",
    "\n",
    "#Adding title and axis labels\n",
    "plt.title('The relationship between movies gross amounts and rating scores')\n",
    "plt.xlabel('Gross Amount (divided by 1,000,000)')\n",
    "plt.ylabel('Rating Score')\n",
    "\n",
    "#adjusting the tick marks for the x-axis \n",
    "plt.xticks(range(0, 651, 50))\n",
    "\n",
    "#Displaying the scatter plot\n",
    "plt.show()\n"
   ]
  },
  {
   "cell_type": "markdown",
   "id": "aa534afc",
   "metadata": {},
   "source": [
    " "
   ]
  },
  {
   "cell_type": "markdown",
   "id": "93d970f8",
   "metadata": {},
   "source": [
    "**1.2. Did this relationship change over time? Compare pre-2000 movies vs. post-2000 movies.**"
   ]
  },
  {
   "cell_type": "code",
   "execution_count": 21,
   "id": "e4151f71",
   "metadata": {},
   "outputs": [
    {
     "data": {
      "image/png": "[encoded data removed]",
      "text/plain": [
       "<Figure size 648x432 with 1 Axes>"
      ]
     },
     "metadata": {
      "needs_background": "light"
     },
     "output_type": "display_data"
    }
   ],
   "source": [
    "#Filtering data by year of release \n",
    "before2000_filter = df['title_year'] < 2000\n",
    "after2000_filter = df['title_year'] >= 2000\n",
    "df_pre2000 = df[before2000_filter]\n",
    "df_post2000 = df[after2000_filter]\n",
    "\n",
    "#setting the figure size\n",
    "plt.figure(figsize=(9, 6))\n",
    "\n",
    "#Creating a scatterplot for pre-2000 movies\n",
    "plt.scatter(df_pre2000['gross'].apply(lambda val: val/1000000),\n",
    "            df_pre2000['imdb_score'],\n",
    "            label='Pre-2000 movies',\n",
    "            s=30,\n",
    "            marker='o',\n",
    "            c='b',\n",
    "            alpha=0.8)\n",
    "\n",
    "#Creating a scatterplot for post-2000 movies\n",
    "plt.scatter(df_post2000['gross'].apply(lambda val: val/1000000),\n",
    "            df_post2000['imdb_score'],\n",
    "            label='Post-2000 movies',\n",
    "            s=35,\n",
    "            marker='D',\n",
    "            c='g',\n",
    "            alpha=0.85)\n",
    "\n",
    "#adjusting the tick marks for the x-axis \n",
    "plt.xticks(range(0, 651, 50))\n",
    "\n",
    "#Adding title and axis labels\n",
    "plt.title('The relationship between movies gross amounts and rating scores')\n",
    "plt.xlabel('Movie Gross Amount (divided by 1,000,000)')\n",
    "plt.ylabel('Movie Rating Score')\n",
    "#Adding a legend\n",
    "plt.legend(title='Year of release:', loc='best')\n",
    "#Displaying the scatter plot\n",
    "plt.show()\n"
   ]
  },
  {
   "cell_type": "markdown",
   "id": "b329308e",
   "metadata": {},
   "source": [
    " "
   ]
  },
  {
   "cell_type": "markdown",
   "id": "66d71c74",
   "metadata": {},
   "source": [
    "**2. Create a histogram that shows the rating score distribution vs. frequency of rating scores for R-Rated movies and PG-13 ones.**"
   ]
  },
  {
   "cell_type": "code",
   "execution_count": 22,
   "id": "6b8b8dcd",
   "metadata": {},
   "outputs": [
    {
     "data": {
      "image/png": "[encoded data removed]",
      "text/plain": [
       "<Figure size 720x504 with 1 Axes>"
      ]
     },
     "metadata": {
      "needs_background": "light"
     },
     "output_type": "display_data"
    }
   ],
   "source": [
    "#Filtering the data by content rating \n",
    "r_rated_filter = df['content_rating'] == 'R'\n",
    "pg13_rated_filter = df['content_rating'] == 'PG-13'\n",
    "df_R = df[r_rated_filter]\n",
    "df_PG13 = df[pg13_rated_filter]\n",
    "\n",
    "#Setting the figure size\n",
    "plt.figure(figsize=(10, 7))\n",
    "\n",
    "#Creating a histogram to compare rating score distribution between R-rated and PG-13 rated movies\n",
    "#Plotting R-rated movies \n",
    "plt.hist(df_R['imdb_score'],\n",
    "         label='R-rated',\n",
    "         color='#074eb0',\n",
    "         alpha=0.75,\n",
    "         linewidth=1, edgecolor='k',\n",
    "         bins='auto')\n",
    "\n",
    "#plotting PG-13 rated movies\n",
    "plt.hist(df_PG13['imdb_score'],\n",
    "         label='PG-13 rated',\n",
    "         color='#faa938',\n",
    "         alpha=0.9,\n",
    "         linewidth=1, edgecolor='k',\n",
    "         bins='auto')\n",
    "\n",
    "#Adding titles and labels\n",
    "plt.title('Rating score distribution for R-rated vs. PG13-rated movies')\n",
    "plt.xlabel('Rating Score')\n",
    "plt.ylabel('Frequency of Rating Score')\n",
    "#Adding a legend\n",
    "plt.legend(loc='best', title='Content Rating:')\n",
    "\n",
    "#Displaying the histogram\n",
    "plt.show()\n"
   ]
  },
  {
   "cell_type": "markdown",
   "id": "42d55592",
   "metadata": {},
   "source": [
    " "
   ]
  },
  {
   "cell_type": "code",
   "execution_count": 23,
   "id": "f577b366",
   "metadata": {},
   "outputs": [],
   "source": [
    "#END"
   ]
  }
 ],
 "metadata": {
  "kernelspec": {
   "display_name": "Python 3 (ipykernel)",
   "language": "python",
   "name": "python3"
  },
  "language_info": {
   "codemirror_mode": {
    "name": "ipython",
    "version": 3
   },
   "file_extension": ".py",
   "mimetype": "text/x-python",
   "name": "python",
   "nbconvert_exporter": "python",
   "pygments_lexer": "ipython3",
   "version": "3.9.7"
  }
 },
 "nbformat": 4,
 "nbformat_minor": 5
}
